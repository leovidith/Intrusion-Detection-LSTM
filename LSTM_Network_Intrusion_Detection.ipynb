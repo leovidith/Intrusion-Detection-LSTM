{
  "cells": [
    {
      "cell_type": "code",
      "execution_count": 36,
      "id": "1db3d1eb",
      "metadata": {
        "_cell_guid": "b1076dfc-b9ad-4769-8c92-a6c4dae69d19",
        "_uuid": "8f2839f25d086af736a60e9eeb907d3b93b6e0e5",
        "execution": {
          "iopub.execute_input": "2024-05-24T15:29:49.381738Z",
          "iopub.status.busy": "2024-05-24T15:29:49.381396Z",
          "iopub.status.idle": "2024-05-24T15:30:03.153635Z",
          "shell.execute_reply": "2024-05-24T15:30:03.152753Z"
        },
        "papermill": {
          "duration": 13.782129,
          "end_time": "2024-05-24T15:30:03.155922",
          "exception": false,
          "start_time": "2024-05-24T15:29:49.373793",
          "status": "completed"
        },
        "tags": [],
        "id": "1db3d1eb"
      },
      "outputs": [],
      "source": [
        "import os\n",
        "import numpy as np\n",
        "import pandas as pd\n",
        "\n",
        "from sklearn.model_selection import train_test_split\n",
        "from sklearn.preprocessing import StandardScaler\n",
        "from sklearn.ensemble import VotingClassifier\n",
        "\n",
        "from keras.models import Sequential\n",
        "from keras.layers import LSTM, Dense\n",
        "\n",
        "import tensorflow as tf"
      ]
    },
    {
      "cell_type": "code",
      "execution_count": 19,
      "id": "b57cdf4e",
      "metadata": {
        "execution": {
          "iopub.execute_input": "2024-05-24T15:30:03.169967Z",
          "iopub.status.busy": "2024-05-24T15:30:03.169361Z",
          "iopub.status.idle": "2024-05-24T15:30:03.181922Z",
          "shell.execute_reply": "2024-05-24T15:30:03.180897Z"
        },
        "papermill": {
          "duration": 0.021621,
          "end_time": "2024-05-24T15:30:03.183962",
          "exception": false,
          "start_time": "2024-05-24T15:30:03.162341",
          "status": "completed"
        },
        "tags": [],
        "colab": {
          "base_uri": "https://localhost:8080/",
          "height": 307
        },
        "id": "b57cdf4e",
        "outputId": "fea7a6ea-db82-4c2e-dd1e-1d98e763f15d"
      },
      "outputs": [
        {
          "output_type": "execute_result",
          "data": {
            "text/plain": [
              "    Destination Port   Flow Duration   Total Fwd Packets  \\\n",
              "0               3268       112740690                  32   \n",
              "1                389       112740560                  32   \n",
              "2                  0       113757377                 545   \n",
              "3               5355          100126                  22   \n",
              "4                  0           54760                   4   \n",
              "\n",
              "    Total Backward Packets  Total Length of Fwd Packets  \\\n",
              "0                       16                         6448   \n",
              "1                       16                         6448   \n",
              "2                        0                            0   \n",
              "3                        0                          616   \n",
              "4                        0                            0   \n",
              "\n",
              "    Total Length of Bwd Packets   Fwd Packet Length Max  \\\n",
              "0                          1152                     403   \n",
              "1                          5056                     403   \n",
              "2                             0                       0   \n",
              "3                             0                      28   \n",
              "4                             0                       0   \n",
              "\n",
              "    Fwd Packet Length Min   Fwd Packet Length Mean   Fwd Packet Length Std  \\\n",
              "0                       0                    201.5              204.724205   \n",
              "1                       0                    201.5              204.724205   \n",
              "2                       0                      0.0                0.000000   \n",
              "3                      28                     28.0                0.000000   \n",
              "4                       0                      0.0                0.000000   \n",
              "\n",
              "   ...   min_seg_size_forward   Active Mean    Active Std   Active Max  \\\n",
              "0  ...                     32  3.594286e+02  1.199802e+01          380   \n",
              "1  ...                     32  3.202857e+02  1.574499e+01          330   \n",
              "2  ...                      0  9.361829e+06  7.324646e+06     18900000   \n",
              "3  ...                     32  0.000000e+00  0.000000e+00            0   \n",
              "4  ...                      0  0.000000e+00  0.000000e+00            0   \n",
              "\n",
              "    Active Min   Idle Mean      Idle Std   Idle Max   Idle Min   Label  \n",
              "0          343  16100000.0  4.988048e+05   16400000   15400000  BENIGN  \n",
              "1          285  16100000.0  4.987937e+05   16400000   15400000  BENIGN  \n",
              "2           19  12200000.0  6.935824e+06   20800000    5504997  BENIGN  \n",
              "3            0         0.0  0.000000e+00          0          0  BENIGN  \n",
              "4            0         0.0  0.000000e+00          0          0  BENIGN  \n",
              "\n",
              "[5 rows x 79 columns]"
            ],
            "text/html": [
              "\n",
              "  <div id=\"df-5afde218-bd48-4750-a07d-94486f29be9e\" class=\"colab-df-container\">\n",
              "    <div>\n",
              "<style scoped>\n",
              "    .dataframe tbody tr th:only-of-type {\n",
              "        vertical-align: middle;\n",
              "    }\n",
              "\n",
              "    .dataframe tbody tr th {\n",
              "        vertical-align: top;\n",
              "    }\n",
              "\n",
              "    .dataframe thead th {\n",
              "        text-align: right;\n",
              "    }\n",
              "</style>\n",
              "<table border=\"1\" class=\"dataframe\">\n",
              "  <thead>\n",
              "    <tr style=\"text-align: right;\">\n",
              "      <th></th>\n",
              "      <th>Destination Port</th>\n",
              "      <th>Flow Duration</th>\n",
              "      <th>Total Fwd Packets</th>\n",
              "      <th>Total Backward Packets</th>\n",
              "      <th>Total Length of Fwd Packets</th>\n",
              "      <th>Total Length of Bwd Packets</th>\n",
              "      <th>Fwd Packet Length Max</th>\n",
              "      <th>Fwd Packet Length Min</th>\n",
              "      <th>Fwd Packet Length Mean</th>\n",
              "      <th>Fwd Packet Length Std</th>\n",
              "      <th>...</th>\n",
              "      <th>min_seg_size_forward</th>\n",
              "      <th>Active Mean</th>\n",
              "      <th>Active Std</th>\n",
              "      <th>Active Max</th>\n",
              "      <th>Active Min</th>\n",
              "      <th>Idle Mean</th>\n",
              "      <th>Idle Std</th>\n",
              "      <th>Idle Max</th>\n",
              "      <th>Idle Min</th>\n",
              "      <th>Label</th>\n",
              "    </tr>\n",
              "  </thead>\n",
              "  <tbody>\n",
              "    <tr>\n",
              "      <th>0</th>\n",
              "      <td>3268</td>\n",
              "      <td>112740690</td>\n",
              "      <td>32</td>\n",
              "      <td>16</td>\n",
              "      <td>6448</td>\n",
              "      <td>1152</td>\n",
              "      <td>403</td>\n",
              "      <td>0</td>\n",
              "      <td>201.5</td>\n",
              "      <td>204.724205</td>\n",
              "      <td>...</td>\n",
              "      <td>32</td>\n",
              "      <td>3.594286e+02</td>\n",
              "      <td>1.199802e+01</td>\n",
              "      <td>380</td>\n",
              "      <td>343</td>\n",
              "      <td>16100000.0</td>\n",
              "      <td>4.988048e+05</td>\n",
              "      <td>16400000</td>\n",
              "      <td>15400000</td>\n",
              "      <td>BENIGN</td>\n",
              "    </tr>\n",
              "    <tr>\n",
              "      <th>1</th>\n",
              "      <td>389</td>\n",
              "      <td>112740560</td>\n",
              "      <td>32</td>\n",
              "      <td>16</td>\n",
              "      <td>6448</td>\n",
              "      <td>5056</td>\n",
              "      <td>403</td>\n",
              "      <td>0</td>\n",
              "      <td>201.5</td>\n",
              "      <td>204.724205</td>\n",
              "      <td>...</td>\n",
              "      <td>32</td>\n",
              "      <td>3.202857e+02</td>\n",
              "      <td>1.574499e+01</td>\n",
              "      <td>330</td>\n",
              "      <td>285</td>\n",
              "      <td>16100000.0</td>\n",
              "      <td>4.987937e+05</td>\n",
              "      <td>16400000</td>\n",
              "      <td>15400000</td>\n",
              "      <td>BENIGN</td>\n",
              "    </tr>\n",
              "    <tr>\n",
              "      <th>2</th>\n",
              "      <td>0</td>\n",
              "      <td>113757377</td>\n",
              "      <td>545</td>\n",
              "      <td>0</td>\n",
              "      <td>0</td>\n",
              "      <td>0</td>\n",
              "      <td>0</td>\n",
              "      <td>0</td>\n",
              "      <td>0.0</td>\n",
              "      <td>0.000000</td>\n",
              "      <td>...</td>\n",
              "      <td>0</td>\n",
              "      <td>9.361829e+06</td>\n",
              "      <td>7.324646e+06</td>\n",
              "      <td>18900000</td>\n",
              "      <td>19</td>\n",
              "      <td>12200000.0</td>\n",
              "      <td>6.935824e+06</td>\n",
              "      <td>20800000</td>\n",
              "      <td>5504997</td>\n",
              "      <td>BENIGN</td>\n",
              "    </tr>\n",
              "    <tr>\n",
              "      <th>3</th>\n",
              "      <td>5355</td>\n",
              "      <td>100126</td>\n",
              "      <td>22</td>\n",
              "      <td>0</td>\n",
              "      <td>616</td>\n",
              "      <td>0</td>\n",
              "      <td>28</td>\n",
              "      <td>28</td>\n",
              "      <td>28.0</td>\n",
              "      <td>0.000000</td>\n",
              "      <td>...</td>\n",
              "      <td>32</td>\n",
              "      <td>0.000000e+00</td>\n",
              "      <td>0.000000e+00</td>\n",
              "      <td>0</td>\n",
              "      <td>0</td>\n",
              "      <td>0.0</td>\n",
              "      <td>0.000000e+00</td>\n",
              "      <td>0</td>\n",
              "      <td>0</td>\n",
              "      <td>BENIGN</td>\n",
              "    </tr>\n",
              "    <tr>\n",
              "      <th>4</th>\n",
              "      <td>0</td>\n",
              "      <td>54760</td>\n",
              "      <td>4</td>\n",
              "      <td>0</td>\n",
              "      <td>0</td>\n",
              "      <td>0</td>\n",
              "      <td>0</td>\n",
              "      <td>0</td>\n",
              "      <td>0.0</td>\n",
              "      <td>0.000000</td>\n",
              "      <td>...</td>\n",
              "      <td>0</td>\n",
              "      <td>0.000000e+00</td>\n",
              "      <td>0.000000e+00</td>\n",
              "      <td>0</td>\n",
              "      <td>0</td>\n",
              "      <td>0.0</td>\n",
              "      <td>0.000000e+00</td>\n",
              "      <td>0</td>\n",
              "      <td>0</td>\n",
              "      <td>BENIGN</td>\n",
              "    </tr>\n",
              "  </tbody>\n",
              "</table>\n",
              "<p>5 rows × 79 columns</p>\n",
              "</div>\n",
              "    <div class=\"colab-df-buttons\">\n",
              "\n",
              "  <div class=\"colab-df-container\">\n",
              "    <button class=\"colab-df-convert\" onclick=\"convertToInteractive('df-5afde218-bd48-4750-a07d-94486f29be9e')\"\n",
              "            title=\"Convert this dataframe to an interactive table.\"\n",
              "            style=\"display:none;\">\n",
              "\n",
              "  <svg xmlns=\"http://www.w3.org/2000/svg\" height=\"24px\" viewBox=\"0 -960 960 960\">\n",
              "    <path d=\"M120-120v-720h720v720H120Zm60-500h600v-160H180v160Zm220 220h160v-160H400v160Zm0 220h160v-160H400v160ZM180-400h160v-160H180v160Zm440 0h160v-160H620v160ZM180-180h160v-160H180v160Zm440 0h160v-160H620v160Z\"/>\n",
              "  </svg>\n",
              "    </button>\n",
              "\n",
              "  <style>\n",
              "    .colab-df-container {\n",
              "      display:flex;\n",
              "      gap: 12px;\n",
              "    }\n",
              "\n",
              "    .colab-df-convert {\n",
              "      background-color: #E8F0FE;\n",
              "      border: none;\n",
              "      border-radius: 50%;\n",
              "      cursor: pointer;\n",
              "      display: none;\n",
              "      fill: #1967D2;\n",
              "      height: 32px;\n",
              "      padding: 0 0 0 0;\n",
              "      width: 32px;\n",
              "    }\n",
              "\n",
              "    .colab-df-convert:hover {\n",
              "      background-color: #E2EBFA;\n",
              "      box-shadow: 0px 1px 2px rgba(60, 64, 67, 0.3), 0px 1px 3px 1px rgba(60, 64, 67, 0.15);\n",
              "      fill: #174EA6;\n",
              "    }\n",
              "\n",
              "    .colab-df-buttons div {\n",
              "      margin-bottom: 4px;\n",
              "    }\n",
              "\n",
              "    [theme=dark] .colab-df-convert {\n",
              "      background-color: #3B4455;\n",
              "      fill: #D2E3FC;\n",
              "    }\n",
              "\n",
              "    [theme=dark] .colab-df-convert:hover {\n",
              "      background-color: #434B5C;\n",
              "      box-shadow: 0px 1px 3px 1px rgba(0, 0, 0, 0.15);\n",
              "      filter: drop-shadow(0px 1px 2px rgba(0, 0, 0, 0.3));\n",
              "      fill: #FFFFFF;\n",
              "    }\n",
              "  </style>\n",
              "\n",
              "    <script>\n",
              "      const buttonEl =\n",
              "        document.querySelector('#df-5afde218-bd48-4750-a07d-94486f29be9e button.colab-df-convert');\n",
              "      buttonEl.style.display =\n",
              "        google.colab.kernel.accessAllowed ? 'block' : 'none';\n",
              "\n",
              "      async function convertToInteractive(key) {\n",
              "        const element = document.querySelector('#df-5afde218-bd48-4750-a07d-94486f29be9e');\n",
              "        const dataTable =\n",
              "          await google.colab.kernel.invokeFunction('convertToInteractive',\n",
              "                                                    [key], {});\n",
              "        if (!dataTable) return;\n",
              "\n",
              "        const docLinkHtml = 'Like what you see? Visit the ' +\n",
              "          '<a target=\"_blank\" href=https://colab.research.google.com/notebooks/data_table.ipynb>data table notebook</a>'\n",
              "          + ' to learn more about interactive tables.';\n",
              "        element.innerHTML = '';\n",
              "        dataTable['output_type'] = 'display_data';\n",
              "        await google.colab.output.renderOutput(dataTable, element);\n",
              "        const docLink = document.createElement('div');\n",
              "        docLink.innerHTML = docLinkHtml;\n",
              "        element.appendChild(docLink);\n",
              "      }\n",
              "    </script>\n",
              "  </div>\n",
              "\n",
              "\n",
              "<div id=\"df-bcb7548f-3ff7-47eb-a5cd-e19d4e5a8c16\">\n",
              "  <button class=\"colab-df-quickchart\" onclick=\"quickchart('df-bcb7548f-3ff7-47eb-a5cd-e19d4e5a8c16')\"\n",
              "            title=\"Suggest charts\"\n",
              "            style=\"display:none;\">\n",
              "\n",
              "<svg xmlns=\"http://www.w3.org/2000/svg\" height=\"24px\"viewBox=\"0 0 24 24\"\n",
              "     width=\"24px\">\n",
              "    <g>\n",
              "        <path d=\"M19 3H5c-1.1 0-2 .9-2 2v14c0 1.1.9 2 2 2h14c1.1 0 2-.9 2-2V5c0-1.1-.9-2-2-2zM9 17H7v-7h2v7zm4 0h-2V7h2v10zm4 0h-2v-4h2v4z\"/>\n",
              "    </g>\n",
              "</svg>\n",
              "  </button>\n",
              "\n",
              "<style>\n",
              "  .colab-df-quickchart {\n",
              "      --bg-color: #E8F0FE;\n",
              "      --fill-color: #1967D2;\n",
              "      --hover-bg-color: #E2EBFA;\n",
              "      --hover-fill-color: #174EA6;\n",
              "      --disabled-fill-color: #AAA;\n",
              "      --disabled-bg-color: #DDD;\n",
              "  }\n",
              "\n",
              "  [theme=dark] .colab-df-quickchart {\n",
              "      --bg-color: #3B4455;\n",
              "      --fill-color: #D2E3FC;\n",
              "      --hover-bg-color: #434B5C;\n",
              "      --hover-fill-color: #FFFFFF;\n",
              "      --disabled-bg-color: #3B4455;\n",
              "      --disabled-fill-color: #666;\n",
              "  }\n",
              "\n",
              "  .colab-df-quickchart {\n",
              "    background-color: var(--bg-color);\n",
              "    border: none;\n",
              "    border-radius: 50%;\n",
              "    cursor: pointer;\n",
              "    display: none;\n",
              "    fill: var(--fill-color);\n",
              "    height: 32px;\n",
              "    padding: 0;\n",
              "    width: 32px;\n",
              "  }\n",
              "\n",
              "  .colab-df-quickchart:hover {\n",
              "    background-color: var(--hover-bg-color);\n",
              "    box-shadow: 0 1px 2px rgba(60, 64, 67, 0.3), 0 1px 3px 1px rgba(60, 64, 67, 0.15);\n",
              "    fill: var(--button-hover-fill-color);\n",
              "  }\n",
              "\n",
              "  .colab-df-quickchart-complete:disabled,\n",
              "  .colab-df-quickchart-complete:disabled:hover {\n",
              "    background-color: var(--disabled-bg-color);\n",
              "    fill: var(--disabled-fill-color);\n",
              "    box-shadow: none;\n",
              "  }\n",
              "\n",
              "  .colab-df-spinner {\n",
              "    border: 2px solid var(--fill-color);\n",
              "    border-color: transparent;\n",
              "    border-bottom-color: var(--fill-color);\n",
              "    animation:\n",
              "      spin 1s steps(1) infinite;\n",
              "  }\n",
              "\n",
              "  @keyframes spin {\n",
              "    0% {\n",
              "      border-color: transparent;\n",
              "      border-bottom-color: var(--fill-color);\n",
              "      border-left-color: var(--fill-color);\n",
              "    }\n",
              "    20% {\n",
              "      border-color: transparent;\n",
              "      border-left-color: var(--fill-color);\n",
              "      border-top-color: var(--fill-color);\n",
              "    }\n",
              "    30% {\n",
              "      border-color: transparent;\n",
              "      border-left-color: var(--fill-color);\n",
              "      border-top-color: var(--fill-color);\n",
              "      border-right-color: var(--fill-color);\n",
              "    }\n",
              "    40% {\n",
              "      border-color: transparent;\n",
              "      border-right-color: var(--fill-color);\n",
              "      border-top-color: var(--fill-color);\n",
              "    }\n",
              "    60% {\n",
              "      border-color: transparent;\n",
              "      border-right-color: var(--fill-color);\n",
              "    }\n",
              "    80% {\n",
              "      border-color: transparent;\n",
              "      border-right-color: var(--fill-color);\n",
              "      border-bottom-color: var(--fill-color);\n",
              "    }\n",
              "    90% {\n",
              "      border-color: transparent;\n",
              "      border-bottom-color: var(--fill-color);\n",
              "    }\n",
              "  }\n",
              "</style>\n",
              "\n",
              "  <script>\n",
              "    async function quickchart(key) {\n",
              "      const quickchartButtonEl =\n",
              "        document.querySelector('#' + key + ' button');\n",
              "      quickchartButtonEl.disabled = true;  // To prevent multiple clicks.\n",
              "      quickchartButtonEl.classList.add('colab-df-spinner');\n",
              "      try {\n",
              "        const charts = await google.colab.kernel.invokeFunction(\n",
              "            'suggestCharts', [key], {});\n",
              "      } catch (error) {\n",
              "        console.error('Error during call to suggestCharts:', error);\n",
              "      }\n",
              "      quickchartButtonEl.classList.remove('colab-df-spinner');\n",
              "      quickchartButtonEl.classList.add('colab-df-quickchart-complete');\n",
              "    }\n",
              "    (() => {\n",
              "      let quickchartButtonEl =\n",
              "        document.querySelector('#df-bcb7548f-3ff7-47eb-a5cd-e19d4e5a8c16 button');\n",
              "      quickchartButtonEl.style.display =\n",
              "        google.colab.kernel.accessAllowed ? 'block' : 'none';\n",
              "    })();\n",
              "  </script>\n",
              "</div>\n",
              "\n",
              "    </div>\n",
              "  </div>\n"
            ],
            "application/vnd.google.colaboratory.intrinsic+json": {
              "type": "dataframe",
              "variable_name": "df"
            }
          },
          "metadata": {},
          "execution_count": 19
        }
      ],
      "source": [
        "df = pd.read_csv('/content/Friday-WorkingHours-Morning.pcap_ISCX.csv')\n",
        "df.head()"
      ]
    },
    {
      "cell_type": "code",
      "execution_count": 20,
      "id": "2ad1f7c1",
      "metadata": {
        "execution": {
          "iopub.execute_input": "2024-05-24T15:30:03.198030Z",
          "iopub.status.busy": "2024-05-24T15:30:03.197230Z",
          "iopub.status.idle": "2024-05-24T15:30:37.747679Z",
          "shell.execute_reply": "2024-05-24T15:30:37.746460Z"
        },
        "papermill": {
          "duration": 34.559401,
          "end_time": "2024-05-24T15:30:37.749783",
          "exception": false,
          "start_time": "2024-05-24T15:30:03.190382",
          "status": "completed"
        },
        "tags": [],
        "colab": {
          "base_uri": "https://localhost:8080/"
        },
        "id": "2ad1f7c1",
        "outputId": "048b003a-4c51-45b0-d027-275536f9f2f0"
      },
      "outputs": [
        {
          "output_type": "execute_result",
          "data": {
            "text/plain": [
              "191033"
            ]
          },
          "metadata": {},
          "execution_count": 20
        }
      ],
      "source": [
        "len(df)"
      ]
    },
    {
      "cell_type": "code",
      "source": [
        "df.columns = df.columns.str.strip()\n",
        "df.replace([np.inf, -np.inf], np.nan, inplace=True)\n",
        "df.dropna(inplace=True)"
      ],
      "metadata": {
        "id": "5s9VTK-w12-t"
      },
      "id": "5s9VTK-w12-t",
      "execution_count": 21,
      "outputs": []
    },
    {
      "cell_type": "code",
      "source": [
        "len(df)"
      ],
      "metadata": {
        "colab": {
          "base_uri": "https://localhost:8080/"
        },
        "id": "XFGihMe8140B",
        "outputId": "4e8c270e-27cd-4857-e7ae-b25a0f5a5e7e"
      },
      "id": "XFGihMe8140B",
      "execution_count": 22,
      "outputs": [
        {
          "output_type": "execute_result",
          "data": {
            "text/plain": [
              "190911"
            ]
          },
          "metadata": {},
          "execution_count": 22
        }
      ]
    },
    {
      "cell_type": "code",
      "source": [
        "df_experiment = df[df['Label'].str.contains('DoS|BENIGN', na=False)]\n",
        "df_experiment = df_experiment[df_experiment['Label'] != 'DoS Slowhttptest']"
      ],
      "metadata": {
        "id": "FguvxP2v1-pH"
      },
      "id": "FguvxP2v1-pH",
      "execution_count": 23,
      "outputs": []
    },
    {
      "cell_type": "code",
      "source": [
        "len(df_experiment)"
      ],
      "metadata": {
        "colab": {
          "base_uri": "https://localhost:8080/"
        },
        "id": "xehuJwMn2AMD",
        "outputId": "b0cc7cd3-1f53-4eed-ba2b-dfd0f8461251"
      },
      "id": "xehuJwMn2AMD",
      "execution_count": 24,
      "outputs": [
        {
          "output_type": "execute_result",
          "data": {
            "text/plain": [
              "188955"
            ]
          },
          "metadata": {},
          "execution_count": 24
        }
      ]
    },
    {
      "cell_type": "code",
      "execution_count": 25,
      "id": "3ba24b49",
      "metadata": {
        "execution": {
          "iopub.execute_input": "2024-05-24T15:30:37.762877Z",
          "iopub.status.busy": "2024-05-24T15:30:37.762572Z",
          "iopub.status.idle": "2024-05-24T15:30:38.213820Z",
          "shell.execute_reply": "2024-05-24T15:30:38.212830Z"
        },
        "papermill": {
          "duration": 0.460355,
          "end_time": "2024-05-24T15:30:38.216130",
          "exception": false,
          "start_time": "2024-05-24T15:30:37.755775",
          "status": "completed"
        },
        "tags": [],
        "colab": {
          "base_uri": "https://localhost:8080/",
          "height": 178
        },
        "id": "3ba24b49",
        "outputId": "6fe5e1a3-a3aa-4bcb-f649-6a86a8e5bf0a"
      },
      "outputs": [
        {
          "output_type": "execute_result",
          "data": {
            "text/plain": [
              "Label\n",
              "BENIGN    188955\n",
              "Bot         1956\n",
              "Name: count, dtype: int64"
            ],
            "text/html": [
              "<div>\n",
              "<style scoped>\n",
              "    .dataframe tbody tr th:only-of-type {\n",
              "        vertical-align: middle;\n",
              "    }\n",
              "\n",
              "    .dataframe tbody tr th {\n",
              "        vertical-align: top;\n",
              "    }\n",
              "\n",
              "    .dataframe thead th {\n",
              "        text-align: right;\n",
              "    }\n",
              "</style>\n",
              "<table border=\"1\" class=\"dataframe\">\n",
              "  <thead>\n",
              "    <tr style=\"text-align: right;\">\n",
              "      <th></th>\n",
              "      <th>count</th>\n",
              "    </tr>\n",
              "    <tr>\n",
              "      <th>Label</th>\n",
              "      <th></th>\n",
              "    </tr>\n",
              "  </thead>\n",
              "  <tbody>\n",
              "    <tr>\n",
              "      <th>BENIGN</th>\n",
              "      <td>188955</td>\n",
              "    </tr>\n",
              "    <tr>\n",
              "      <th>Bot</th>\n",
              "      <td>1956</td>\n",
              "    </tr>\n",
              "  </tbody>\n",
              "</table>\n",
              "</div><br><label><b>dtype:</b> int64</label>"
            ]
          },
          "metadata": {},
          "execution_count": 25
        }
      ],
      "source": [
        "df.Label.value_counts()"
      ]
    },
    {
      "cell_type": "code",
      "execution_count": 26,
      "id": "08e89a3b",
      "metadata": {
        "execution": {
          "iopub.execute_input": "2024-05-24T15:30:38.231217Z",
          "iopub.status.busy": "2024-05-24T15:30:38.230861Z",
          "iopub.status.idle": "2024-05-24T15:30:44.963504Z",
          "shell.execute_reply": "2024-05-24T15:30:44.962488Z"
        },
        "papermill": {
          "duration": 6.742388,
          "end_time": "2024-05-24T15:30:44.965640",
          "exception": false,
          "start_time": "2024-05-24T15:30:38.223252",
          "status": "completed"
        },
        "tags": [],
        "colab": {
          "base_uri": "https://localhost:8080/",
          "height": 178
        },
        "id": "08e89a3b",
        "outputId": "bbc2142a-b462-46d4-cc90-0d011d100c17"
      },
      "outputs": [
        {
          "output_type": "execute_result",
          "data": {
            "text/plain": [
              "Label\n",
              "BENIGN    188955\n",
              "Bot         1956\n",
              "Name: count, dtype: int64"
            ],
            "text/html": [
              "<div>\n",
              "<style scoped>\n",
              "    .dataframe tbody tr th:only-of-type {\n",
              "        vertical-align: middle;\n",
              "    }\n",
              "\n",
              "    .dataframe tbody tr th {\n",
              "        vertical-align: top;\n",
              "    }\n",
              "\n",
              "    .dataframe thead th {\n",
              "        text-align: right;\n",
              "    }\n",
              "</style>\n",
              "<table border=\"1\" class=\"dataframe\">\n",
              "  <thead>\n",
              "    <tr style=\"text-align: right;\">\n",
              "      <th></th>\n",
              "      <th>count</th>\n",
              "    </tr>\n",
              "    <tr>\n",
              "      <th>Label</th>\n",
              "      <th></th>\n",
              "    </tr>\n",
              "  </thead>\n",
              "  <tbody>\n",
              "    <tr>\n",
              "      <th>BENIGN</th>\n",
              "      <td>188955</td>\n",
              "    </tr>\n",
              "    <tr>\n",
              "      <th>Bot</th>\n",
              "      <td>1956</td>\n",
              "    </tr>\n",
              "  </tbody>\n",
              "</table>\n",
              "</div><br><label><b>dtype:</b> int64</label>"
            ]
          },
          "metadata": {},
          "execution_count": 26
        }
      ],
      "source": [
        "df_experiment = df.copy()\n",
        "df_experiment['Label'] = df_experiment['Label'].replace(\"Web.*\", \"Web Attack\", regex=True)\n",
        "df_experiment['Label'] = df_experiment['Label'].replace(r'.*Patator$', \"Brute Force\", regex=True)\n",
        "df_experiment['Label'] = df_experiment['Label'].replace([\"DoS GoldenEye\", \"DoS Hulk\", \"DoS Slowhttptest\", \"DoS slowloris\"], \"DoS\")\n",
        "df_experiment.Label.value_counts()"
      ]
    },
    {
      "cell_type": "code",
      "execution_count": 27,
      "id": "0de6d113",
      "metadata": {
        "execution": {
          "iopub.execute_input": "2024-05-24T15:30:44.980111Z",
          "iopub.status.busy": "2024-05-24T15:30:44.979788Z",
          "iopub.status.idle": "2024-05-24T15:30:45.070459Z",
          "shell.execute_reply": "2024-05-24T15:30:45.069526Z"
        },
        "papermill": {
          "duration": 0.100771,
          "end_time": "2024-05-24T15:30:45.072937",
          "exception": false,
          "start_time": "2024-05-24T15:30:44.972166",
          "status": "completed"
        },
        "tags": [],
        "id": "0de6d113"
      },
      "outputs": [],
      "source": [
        "class_attack = ['PortScan', 'Web Attack', 'Brute Force', 'DDoS', 'Bot','Infiltration', 'DoS', 'Heartbleed']\n",
        "df_experiment['Label'] = np.where(df_experiment['Label'].isin(class_attack), 1, 0)"
      ]
    },
    {
      "cell_type": "code",
      "execution_count": 28,
      "id": "09689609",
      "metadata": {
        "execution": {
          "iopub.execute_input": "2024-05-24T15:30:45.087526Z",
          "iopub.status.busy": "2024-05-24T15:30:45.087187Z",
          "iopub.status.idle": "2024-05-24T15:30:45.117547Z",
          "shell.execute_reply": "2024-05-24T15:30:45.116631Z"
        },
        "papermill": {
          "duration": 0.039704,
          "end_time": "2024-05-24T15:30:45.119556",
          "exception": false,
          "start_time": "2024-05-24T15:30:45.079852",
          "status": "completed"
        },
        "tags": [],
        "colab": {
          "base_uri": "https://localhost:8080/",
          "height": 178
        },
        "id": "09689609",
        "outputId": "3366350e-8ebe-4cd0-aa23-1422bc755bf1"
      },
      "outputs": [
        {
          "output_type": "execute_result",
          "data": {
            "text/plain": [
              "Label\n",
              "0    188955\n",
              "1      1956\n",
              "Name: count, dtype: int64"
            ],
            "text/html": [
              "<div>\n",
              "<style scoped>\n",
              "    .dataframe tbody tr th:only-of-type {\n",
              "        vertical-align: middle;\n",
              "    }\n",
              "\n",
              "    .dataframe tbody tr th {\n",
              "        vertical-align: top;\n",
              "    }\n",
              "\n",
              "    .dataframe thead th {\n",
              "        text-align: right;\n",
              "    }\n",
              "</style>\n",
              "<table border=\"1\" class=\"dataframe\">\n",
              "  <thead>\n",
              "    <tr style=\"text-align: right;\">\n",
              "      <th></th>\n",
              "      <th>count</th>\n",
              "    </tr>\n",
              "    <tr>\n",
              "      <th>Label</th>\n",
              "      <th></th>\n",
              "    </tr>\n",
              "  </thead>\n",
              "  <tbody>\n",
              "    <tr>\n",
              "      <th>0</th>\n",
              "      <td>188955</td>\n",
              "    </tr>\n",
              "    <tr>\n",
              "      <th>1</th>\n",
              "      <td>1956</td>\n",
              "    </tr>\n",
              "  </tbody>\n",
              "</table>\n",
              "</div><br><label><b>dtype:</b> int64</label>"
            ]
          },
          "metadata": {},
          "execution_count": 28
        }
      ],
      "source": [
        "df_experiment['Label'].value_counts()"
      ]
    },
    {
      "cell_type": "code",
      "execution_count": 29,
      "id": "81620052",
      "metadata": {
        "execution": {
          "iopub.execute_input": "2024-05-24T15:30:45.146813Z",
          "iopub.status.busy": "2024-05-24T15:30:45.146485Z",
          "iopub.status.idle": "2024-05-24T15:30:45.758040Z",
          "shell.execute_reply": "2024-05-24T15:30:45.756892Z"
        },
        "papermill": {
          "duration": 0.621716,
          "end_time": "2024-05-24T15:30:45.760759",
          "exception": false,
          "start_time": "2024-05-24T15:30:45.139043",
          "status": "completed"
        },
        "tags": [],
        "id": "81620052"
      },
      "outputs": [],
      "source": [
        "X = df_experiment.drop(columns=['Label'])\n",
        "y = df_experiment['Label']"
      ]
    },
    {
      "cell_type": "code",
      "execution_count": 38,
      "id": "c3516b3f",
      "metadata": {
        "execution": {
          "iopub.execute_input": "2024-05-24T15:30:45.776973Z",
          "iopub.status.busy": "2024-05-24T15:30:45.776633Z",
          "iopub.status.idle": "2024-05-24T15:30:49.551562Z",
          "shell.execute_reply": "2024-05-24T15:30:49.550591Z"
        },
        "papermill": {
          "duration": 3.785541,
          "end_time": "2024-05-24T15:30:49.553683",
          "exception": false,
          "start_time": "2024-05-24T15:30:45.768142",
          "status": "completed"
        },
        "tags": [],
        "colab": {
          "base_uri": "https://localhost:8080/"
        },
        "id": "c3516b3f",
        "outputId": "ae925189-7c27-4a5f-c9d0-d3f9cd227bef"
      },
      "outputs": [
        {
          "output_type": "stream",
          "name": "stdout",
          "text": [
            "(190911, 78)\n",
            "instances per label\n",
            " Label\n",
            "0    188955\n",
            "1      1956\n",
            "Name: count, dtype: int64\n",
            "after spliting the data:\n",
            "\n",
            "training data length: 152728\n",
            "test data length: 38183\n"
          ]
        }
      ],
      "source": [
        "print(X.shape)\n",
        "print(\"instances per label\\n\", y.value_counts())\n",
        "\n",
        "X_train, X_test, y_train, y_test = train_test_split(X, y, test_size=0.2, random_state=42, stratify = y)\n",
        "\n",
        "print(\"after spliting the data:\\n\")\n",
        "print(\"training data length:\", len(X_train))\n",
        "print(\"test data length:\", len(X_test))\n"
      ]
    },
    {
      "cell_type": "code",
      "execution_count": 31,
      "id": "09377799",
      "metadata": {
        "execution": {
          "iopub.execute_input": "2024-05-24T15:30:49.569660Z",
          "iopub.status.busy": "2024-05-24T15:30:49.568958Z",
          "iopub.status.idle": "2024-05-24T15:30:51.982006Z",
          "shell.execute_reply": "2024-05-24T15:30:51.981213Z"
        },
        "papermill": {
          "duration": 2.42301,
          "end_time": "2024-05-24T15:30:51.984364",
          "exception": false,
          "start_time": "2024-05-24T15:30:49.561354",
          "status": "completed"
        },
        "tags": [],
        "id": "09377799"
      },
      "outputs": [],
      "source": [
        "from sklearn.preprocessing import OneHotEncoder, LabelEncoder, MinMaxScaler\n",
        "\n",
        "scaler = MinMaxScaler()\n",
        "X_train = scaler.fit_transform(X_train)\n",
        "X_test = scaler.transform(X_test)"
      ]
    },
    {
      "cell_type": "code",
      "execution_count": 32,
      "id": "0e2c3e52",
      "metadata": {
        "execution": {
          "iopub.execute_input": "2024-05-24T15:30:52.019752Z",
          "iopub.status.busy": "2024-05-24T15:30:52.019429Z",
          "iopub.status.idle": "2024-05-24T15:30:52.025026Z",
          "shell.execute_reply": "2024-05-24T15:30:52.024204Z"
        },
        "papermill": {
          "duration": 0.015513,
          "end_time": "2024-05-24T15:30:52.027211",
          "exception": false,
          "start_time": "2024-05-24T15:30:52.011698",
          "status": "completed"
        },
        "tags": [],
        "colab": {
          "base_uri": "https://localhost:8080/"
        },
        "id": "0e2c3e52",
        "outputId": "8d877d59-9f94-4d68-edd1-9c7923a4e9f4"
      },
      "outputs": [
        {
          "output_type": "stream",
          "name": "stdout",
          "text": [
            "shape of X_train: (152728, 1, 78)\n",
            "shape of X_test: (38183, 1, 78)\n"
          ]
        }
      ],
      "source": [
        "X_train_lstm = X_train.reshape(X_train.shape[0], 1, X_train.shape[1])\n",
        "X_test_lstm = X_test.reshape(X_test.shape[0], 1, X_test.shape[1])\n",
        "print(f\"shape of X_train:\", X_train_lstm.shape)\n",
        "print(f\"shape of X_test:\", X_test_lstm.shape)"
      ]
    },
    {
      "cell_type": "code",
      "execution_count": 33,
      "id": "8de8b543",
      "metadata": {
        "execution": {
          "iopub.execute_input": "2024-05-24T15:30:52.061795Z",
          "iopub.status.busy": "2024-05-24T15:30:52.061069Z",
          "iopub.status.idle": "2024-05-24T15:30:53.165458Z",
          "shell.execute_reply": "2024-05-24T15:30:53.164683Z"
        },
        "papermill": {
          "duration": 1.114209,
          "end_time": "2024-05-24T15:30:53.167737",
          "exception": false,
          "start_time": "2024-05-24T15:30:52.053528",
          "status": "completed"
        },
        "tags": [],
        "colab": {
          "base_uri": "https://localhost:8080/"
        },
        "id": "8de8b543",
        "outputId": "efb9a260-0a72-4b6e-8cb5-7a669053ee39"
      },
      "outputs": [
        {
          "output_type": "stream",
          "name": "stderr",
          "text": [
            "/usr/local/lib/python3.10/dist-packages/keras/src/layers/rnn/rnn.py:204: UserWarning: Do not pass an `input_shape`/`input_dim` argument to a layer. When using Sequential models, prefer using an `Input(shape)` object as the first layer in the model instead.\n",
            "  super().__init__(**kwargs)\n"
          ]
        }
      ],
      "source": [
        "lstm_model = Sequential()\n",
        "lstm_model.add(LSTM(50, input_shape=(X_train_lstm.shape[1], X_train_lstm.shape[2])))\n",
        "lstm_model.add(Dense(1, activation='sigmoid'))\n",
        "lstm_model.compile(loss='binary_crossentropy', optimizer='adam', metrics=['accuracy'])"
      ]
    },
    {
      "cell_type": "code",
      "execution_count": 37,
      "id": "9777f132",
      "metadata": {
        "execution": {
          "iopub.execute_input": "2024-05-24T15:30:53.183545Z",
          "iopub.status.busy": "2024-05-24T15:30:53.182803Z",
          "iopub.status.idle": "2024-05-24T16:17:30.526295Z",
          "shell.execute_reply": "2024-05-24T16:17:30.525361Z"
        },
        "papermill": {
          "duration": 2801.222867,
          "end_time": "2024-05-24T16:17:34.397756",
          "exception": false,
          "start_time": "2024-05-24T15:30:53.174889",
          "status": "completed"
        },
        "tags": [],
        "colab": {
          "base_uri": "https://localhost:8080/"
        },
        "id": "9777f132",
        "outputId": "0a367690-b1a0-4f91-b5a0-2f8219abd73e"
      },
      "outputs": [
        {
          "output_type": "stream",
          "name": "stdout",
          "text": [
            "Epoch 1/5\n",
            "\u001b[1m4773/4773\u001b[0m \u001b[32m━━━━━━━━━━━━━━━━━━━━\u001b[0m\u001b[37m\u001b[0m \u001b[1m25s\u001b[0m 5ms/step - accuracy: 0.9952 - loss: 0.0160 - val_accuracy: 0.9959 - val_loss: 0.0162\n",
            "Epoch 2/5\n",
            "\u001b[1m4773/4773\u001b[0m \u001b[32m━━━━━━━━━━━━━━━━━━━━\u001b[0m\u001b[37m\u001b[0m \u001b[1m41s\u001b[0m 5ms/step - accuracy: 0.9959 - loss: 0.0152 - val_accuracy: 0.9961 - val_loss: 0.0149\n",
            "Epoch 3/5\n",
            "\u001b[1m4773/4773\u001b[0m \u001b[32m━━━━━━━━━━━━━━━━━━━━\u001b[0m\u001b[37m\u001b[0m \u001b[1m43s\u001b[0m 6ms/step - accuracy: 0.9960 - loss: 0.0142 - val_accuracy: 0.9961 - val_loss: 0.0142\n",
            "Epoch 4/5\n",
            "\u001b[1m4773/4773\u001b[0m \u001b[32m━━━━━━━━━━━━━━━━━━━━\u001b[0m\u001b[37m\u001b[0m \u001b[1m36s\u001b[0m 5ms/step - accuracy: 0.9958 - loss: 0.0152 - val_accuracy: 0.9961 - val_loss: 0.0148\n",
            "Epoch 5/5\n",
            "\u001b[1m4773/4773\u001b[0m \u001b[32m━━━━━━━━━━━━━━━━━━━━\u001b[0m\u001b[37m\u001b[0m \u001b[1m41s\u001b[0m 5ms/step - accuracy: 0.9963 - loss: 0.0130 - val_accuracy: 0.9959 - val_loss: 0.0155\n"
          ]
        }
      ],
      "source": [
        "es = tf.keras.callbacks.EarlyStopping(patience=2, monitor=\"val_loss\", restore_best_weights=True)\n",
        "\n",
        "history = lstm_model.fit(X_train_lstm,\n",
        "                         y_train,\n",
        "                         epochs=5,\n",
        "                         validation_data=(X_test_lstm, y_test),\n",
        "                         batch_size=32,\n",
        "                         callbacks = [])"
      ]
    },
    {
      "cell_type": "code",
      "source": [
        "import matplotlib.pyplot as plt\n",
        "\n",
        "plt.plot(history.history['loss'], label='Training Loss')\n",
        "plt.plot(history.history['val_loss'], label='Validation Loss')\n",
        "\n",
        "plt.title('Model Loss Curves')\n",
        "plt.xlabel('Epochs')\n",
        "plt.ylabel('Loss')\n",
        "plt.legend()\n",
        "\n",
        "plt.show()"
      ],
      "metadata": {
        "colab": {
          "base_uri": "https://localhost:8080/",
          "height": 472
        },
        "id": "MhBPE7ax4GNP",
        "outputId": "6f7a4767-9c35-4fd5-891f-8278e65f0ed0"
      },
      "id": "MhBPE7ax4GNP",
      "execution_count": 41,
      "outputs": [
        {
          "output_type": "display_data",
          "data": {
            "text/plain": [
              "<Figure size 640x480 with 1 Axes>"
            ],
            "image/png": "[encoded data removed]"
          },
          "metadata": {}
        }
      ]
    },
    {
      "cell_type": "code",
      "execution_count": 43,
      "id": "82503452",
      "metadata": {
        "execution": {
          "iopub.execute_input": "2024-05-24T16:17:42.337816Z",
          "iopub.status.busy": "2024-05-24T16:17:42.336899Z",
          "iopub.status.idle": "2024-05-24T16:18:14.385706Z",
          "shell.execute_reply": "2024-05-24T16:18:14.384793Z"
        },
        "papermill": {
          "duration": 38.457113,
          "end_time": "2024-05-24T16:18:16.756519",
          "exception": false,
          "start_time": "2024-05-24T16:17:38.299406",
          "status": "completed"
        },
        "tags": [],
        "colab": {
          "base_uri": "https://localhost:8080/"
        },
        "id": "82503452",
        "outputId": "a7738751-4014-4105-d6c1-d1327972f612"
      },
      "outputs": [
        {
          "output_type": "stream",
          "name": "stdout",
          "text": [
            "\u001b[1m1194/1194\u001b[0m \u001b[32m━━━━━━━━━━━━━━━━━━━━\u001b[0m\u001b[37m\u001b[0m \u001b[1m2s\u001b[0m 2ms/step - accuracy: 0.9962 - loss: 0.0144\n"
          ]
        },
        {
          "output_type": "execute_result",
          "data": {
            "text/plain": [
              "[0.015461965464055538, 0.9959143996238708]"
            ]
          },
          "metadata": {},
          "execution_count": 43
        }
      ],
      "source": [
        "lstm_model.evaluate(X_test_lstm, y_test)"
      ]
    },
    {
      "cell_type": "code",
      "source": [
        "def predict_intrusion(user_input, scaler, model):\n",
        "    try:\n",
        "        user_input = np.array(user_input).reshape(1, -1)\n",
        "        user_input_scaled = scaler.transform(user_input)\n",
        "        user_input_scaled_lstm = user_input_scaled.reshape(1, 1, user_input_scaled.shape[1])\n",
        "        prediction = model.predict(user_input_scaled_lstm)\n",
        "        if prediction[0][0] >= 0.5:\n",
        "            print(\"Intrusion occurred!\")\n",
        "        else:\n",
        "            print(\"No intrusion detected.\")\n",
        "    except Exception as e:\n",
        "        print(f\"Error: {e}\")"
      ],
      "metadata": {
        "id": "LlBNZC7b5WWI"
      },
      "id": "LlBNZC7b5WWI",
      "execution_count": 44,
      "outputs": []
    },
    {
      "cell_type": "code",
      "source": [
        "example_input = [0.2] * 78\n",
        "predict_intrusion(example_input, scaler, lstm_model)"
      ],
      "metadata": {
        "colab": {
          "base_uri": "https://localhost:8080/"
        },
        "id": "Omw-II4S5XMu",
        "outputId": "7fad7358-59c5-4939-e054-a731dfdcb81d"
      },
      "id": "Omw-II4S5XMu",
      "execution_count": 47,
      "outputs": [
        {
          "output_type": "stream",
          "name": "stdout",
          "text": [
            "\u001b[1m1/1\u001b[0m \u001b[32m━━━━━━━━━━━━━━━━━━━━\u001b[0m\u001b[37m\u001b[0m \u001b[1m0s\u001b[0m 119ms/step\n",
            "No intrusion detected.\n"
          ]
        },
        {
          "output_type": "stream",
          "name": "stderr",
          "text": [
            "/usr/local/lib/python3.10/dist-packages/sklearn/base.py:493: UserWarning: X does not have valid feature names, but MinMaxScaler was fitted with feature names\n",
            "  warnings.warn(\n"
          ]
        }
      ]
    }
  ],
  "metadata": {
    "kaggle": {
      "accelerator": "gpu",
      "dataSources": [
        {
          "datasetId": 3674161,
          "sourceId": 6376134,
          "sourceType": "datasetVersion"
        }
      ],
      "dockerImageVersionId": 30699,
      "isGpuEnabled": true,
      "isInternetEnabled": true,
      "language": "python",
      "sourceType": "notebook"
    },
    "kernelspec": {
      "display_name": "Python 3",
      "name": "python3"
    },
    "language_info": {
      "codemirror_mode": {
        "name": "ipython",
        "version": 3
      },
      "file_extension": ".py",
      "mimetype": "text/x-python",
      "name": "python",
      "nbconvert_exporter": "python",
      "pygments_lexer": "ipython3",
      "version": "3.10.13"
    },
    "papermill": {
      "default_parameters": {},
      "duration": 2925.714952,
      "end_time": "2024-05-24T16:18:32.282676",
      "environment_variables": {},
      "exception": true,
      "input_path": "__notebook__.ipynb",
      "output_path": "__notebook__.ipynb",
      "parameters": {},
      "start_time": "2024-05-24T15:29:46.567724",
      "version": "2.5.0"
    },
    "colab": {
      "provenance": [],
      "gpuType": "T4"
    },
    "accelerator": "GPU"
  },
  "nbformat": 4,
  "nbformat_minor": 5
}